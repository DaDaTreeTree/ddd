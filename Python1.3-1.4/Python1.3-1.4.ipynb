{
 "cells": [
  {
   "cell_type": "markdown",
   "metadata": {},
   "source": [
    "# 1.3\tPython的函数、类和对象"
   ]
  },
  {
   "cell_type": "markdown",
   "metadata": {},
   "source": [
    "## 1.3.1\t函数"
   ]
  },
  {
   "cell_type": "markdown",
   "metadata": {},
   "source": [
    "定义了一个实现两个数字相加功能的函数"
   ]
  },
  {
   "cell_type": "code",
   "execution_count": 1,
   "metadata": {},
   "outputs": [
    {
     "name": "stdout",
     "output_type": "stream",
     "text": [
      "1 + 2 = 3\n"
     ]
    }
   ],
   "source": [
    "def sum_num(num1, num2):\n",
    "    result = num1 + num2\n",
    "    print(\"%d + %d = %d\"%(num1, num2, result))\n",
    "\n",
    "sum_num(1, 2)  # 1 + 2 = 3"
   ]
  },
  {
   "cell_type": "markdown",
   "metadata": {},
   "source": [
    "使用return+关键字的形式返回结果"
   ]
  },
  {
   "cell_type": "code",
   "execution_count": 2,
   "metadata": {},
   "outputs": [],
   "source": [
    "def sum_num(num1, num2):\n",
    "    result = num1 + num2\n",
    "    print(\"%d + %d = %d\"%(num1, num2, result))\n",
    "    return result"
   ]
  },
  {
   "cell_type": "markdown",
   "metadata": {},
   "source": [
    "如果我们在调用时使用sum_num(1, 2)来接受结果，会发现运行后没有任何显示，原因在于我们要用变量来接收结果，于是，正确的调用应该是"
   ]
  },
  {
   "cell_type": "code",
   "execution_count": 3,
   "metadata": {},
   "outputs": [
    {
     "name": "stdout",
     "output_type": "stream",
     "text": [
      "1 + 2 = 3\n",
      "计算结果:3\n"
     ]
    }
   ],
   "source": [
    "answer = sum_num(1, 2)\n",
    "print(\"计算结果:%d\"%answer)  # 3\n"
   ]
  },
  {
   "cell_type": "markdown",
   "metadata": {},
   "source": [
    "函数的嵌套调用是指在函数2里面调用函数1，举例如下"
   ]
  },
  {
   "cell_type": "code",
   "execution_count": 4,
   "metadata": {},
   "outputs": [
    {
     "name": "stdout",
     "output_type": "stream",
     "text": [
      "1 + 2 = 3\n",
      "计算结果:3\n"
     ]
    }
   ],
   "source": [
    "def sum_num(num1, num2):\n",
    "    result = num1 + num2\n",
    "    print(\"%d + %d = %d\"%(num1, num2, result))  # 1 + 2 = 3\n",
    "    return result\n",
    "\n",
    "def sum_num2():\n",
    "    answer = sum_num(1, 2)  # 调用上面的函数\n",
    "    print(\"计算结果:%d\"%answer)  # 3\n",
    "\n",
    "sum_num2()  # 1 + 2 = 3   计算结果:3"
   ]
  },
  {
   "cell_type": "markdown",
   "metadata": {},
   "source": [
    "## 1.3.2\t类和对象"
   ]
  },
  {
   "cell_type": "markdown",
   "metadata": {},
   "source": [
    "定义一个获取和设置身高的类"
   ]
  },
  {
   "cell_type": "code",
   "execution_count": 5,
   "metadata": {},
   "outputs": [],
   "source": [
    "class SetAndGetHeight:\n",
    "   def setHeight(self, height):\n",
    "       self.height = height\n",
    "   def getHeight(self):\n",
    "      return self.height"
   ]
  },
  {
   "cell_type": "markdown",
   "metadata": {},
   "source": [
    "上面我们定义的设置和获取身高的类中，实例化对象即为具体的身高数值的设置和获取，于是，调用上面的代码我们生成一个对象"
   ]
  },
  {
   "cell_type": "code",
   "execution_count": 6,
   "metadata": {},
   "outputs": [
    {
     "name": "stdout",
     "output_type": "stream",
     "text": [
      "165\n"
     ]
    }
   ],
   "source": [
    "object1 = SetAndGetHeight()\n",
    "object1.setHeight(165)\n",
    "H = object1.getHeight()\n",
    "print(H)  # 165"
   ]
  },
  {
   "cell_type": "markdown",
   "metadata": {},
   "source": [
    "类和对象的三个重要特征"
   ]
  },
  {
   "cell_type": "markdown",
   "metadata": {},
   "source": [
    "封装性：用双下划线开头来将属性隐藏起来"
   ]
  },
  {
   "cell_type": "code",
   "execution_count": 7,
   "metadata": {},
   "outputs": [],
   "source": [
    "class SetAndetHeight:\n",
    "   def setHeight(self, height):\n",
    "       self.__height = height\n",
    "   def getHeight(self):\n",
    "      return self.__height"
   ]
  },
  {
   "cell_type": "markdown",
   "metadata": {},
   "source": [
    "继承性：父类的方法会被子类继承下来"
   ]
  },
  {
   "cell_type": "markdown",
   "metadata": {},
   "source": [
    "1.单继承"
   ]
  },
  {
   "cell_type": "markdown",
   "metadata": {},
   "source": [
    "定义一个父类为人类，包含姓名和年龄两个属性，方法是打印属性的结果"
   ]
  },
  {
   "cell_type": "code",
   "execution_count": 8,
   "metadata": {},
   "outputs": [],
   "source": [
    "class Human:\n",
    "    def __init__(self, name, age):\n",
    "        self.name = name\n",
    "        self.age = age\n",
    "\n",
    "    def get(self):\n",
    "        print(self.name, self.age)"
   ]
  },
  {
   "cell_type": "markdown",
   "metadata": {},
   "source": [
    "定义一个子类为学生类，继承人类之后再加入自己的属性学号和打印学号的方法"
   ]
  },
  {
   "cell_type": "code",
   "execution_count": 9,
   "metadata": {},
   "outputs": [],
   "source": [
    "class Student(Human):\n",
    "\n",
    "    def __init__(self, name, age, stuID):\n",
    "        # 调用父类的实例化方法\n",
    "        Human.__init__(self, name, age)\n",
    "        self.stuID = stuID\n",
    "\n",
    "    # 重写父类的get方法\n",
    "    def get(self):\n",
    "        print(self.name, self.age, self.stuID)"
   ]
  },
  {
   "cell_type": "markdown",
   "metadata": {},
   "source": [
    "生成对象student1的时候可以直接调用子类，即可继承父类里关于姓名和年龄的设置"
   ]
  },
  {
   "cell_type": "code",
   "execution_count": 10,
   "metadata": {},
   "outputs": [],
   "source": [
    "student1 = Student('小明', 10, 12)"
   ]
  },
  {
   "cell_type": "markdown",
   "metadata": {},
   "source": [
    "2.多重继承"
   ]
  },
  {
   "cell_type": "markdown",
   "metadata": {},
   "source": [
    "定义第一个父类人类，包含姓名，年龄属性"
   ]
  },
  {
   "cell_type": "code",
   "execution_count": 11,
   "metadata": {},
   "outputs": [],
   "source": [
    "class Human:\n",
    "    def __init__(self, name, age):\n",
    "        self.name = name\n",
    "        self.age = age\n",
    "\n",
    "    def get(self):\n",
    "        print(self.name, self.age)"
   ]
  },
  {
   "cell_type": "markdown",
   "metadata": {},
   "source": [
    "再定义第二个父类，学生类，包含学号属性"
   ]
  },
  {
   "cell_type": "code",
   "execution_count": 12,
   "metadata": {},
   "outputs": [],
   "source": [
    "class Student:\n",
    "    def __init__(self, stuID):\n",
    "        self.stuID = stuID\n",
    "\n",
    "    def get(self):\n",
    "        print(self.stuID)"
   ]
  },
  {
   "cell_type": "markdown",
   "metadata": {},
   "source": [
    "定义一个大学生类，继承前两个父类，并包含自己的属性，六级考试成绩"
   ]
  },
  {
   "cell_type": "code",
   "execution_count": 13,
   "metadata": {},
   "outputs": [],
   "source": [
    "class CollegeStudent(Human, Student):\n",
    "\n",
    "    def __init__(self, name, age, stuID, CET6Score):\n",
    "        Human.__init__(self, name, age)\n",
    "        Student.__init__(self, stuID)\n",
    "        self.CET6Score = CET6Score\n",
    "\n",
    "    # 重写父类的get方法\n",
    "    def get(self):\n",
    "        print(self.name, self.age, self.stuID, self.CET6Score)"
   ]
  },
  {
   "cell_type": "markdown",
   "metadata": {},
   "source": [
    "现在我们可以调用大学生类，生成姓名是小明，年龄为20岁，学号是12号，六级英语成绩为532分的对象student2"
   ]
  },
  {
   "cell_type": "code",
   "execution_count": 14,
   "metadata": {},
   "outputs": [],
   "source": [
    "student2 = CollegeStudent('小明', 20, 12, 532)"
   ]
  },
  {
   "cell_type": "markdown",
   "metadata": {},
   "source": [
    "3.多级继承"
   ]
  },
  {
   "cell_type": "markdown",
   "metadata": {},
   "source": [
    "先定义一个父类人类，再定义一个子类学生类继承人类"
   ]
  },
  {
   "cell_type": "code",
   "execution_count": 15,
   "metadata": {},
   "outputs": [],
   "source": [
    "class Human:\n",
    "    def __init__(self, name, age):\n",
    "        self.name = name\n",
    "        self.age = age\n",
    "\n",
    "    def get(self):\n",
    "        print(self.name, self.age)\n",
    "class Student(Human):\n",
    "    def __init__(self, name, age, stuID):\n",
    "        Human.__init__(self, name, age)\n",
    "        self.stuID = stuID\n",
    "\n",
    "    def get(self):\n",
    "        print(self.name, self.age, self.stuID)"
   ]
  },
  {
   "cell_type": "markdown",
   "metadata": {},
   "source": [
    "现在我们定义一个子子类大学生类来继承子类学生类"
   ]
  },
  {
   "cell_type": "code",
   "execution_count": 16,
   "metadata": {},
   "outputs": [],
   "source": [
    "class CollegeStudent(Student):\n",
    "\n",
    "    def __init__(self, name, age, stuID, CET6Score):\n",
    "        Student.__init__(self, name, age, stuID)\n",
    "        self.CET6Score = CET6Score\n",
    "\n",
    "    def get(self):\n",
    "        print(self.name, self.age, self.stuID, self.CET6Score)"
   ]
  },
  {
   "cell_type": "markdown",
   "metadata": {},
   "source": [
    "现在我们可以调用子子类大学生类来生成一个名字叫小明，年龄20岁，学号为12，六级分数为532分的对象student3"
   ]
  },
  {
   "cell_type": "code",
   "execution_count": 17,
   "metadata": {},
   "outputs": [],
   "source": [
    "student3 = CollegeStudent('小明', 20, 12, 532)"
   ]
  },
  {
   "cell_type": "markdown",
   "metadata": {},
   "source": [
    "Python里还有一个super()函数可以定义子类时在父类里调用方法，我们定义一个父类一个子类，使用super函数调用父类里的方法"
   ]
  },
  {
   "cell_type": "code",
   "execution_count": 18,
   "metadata": {},
   "outputs": [
    {
     "name": "stdout",
     "output_type": "stream",
     "text": [
      "parent\n",
      "child\n"
     ]
    }
   ],
   "source": [
    "class Parent:\n",
    "   def func(self):\n",
    "      print(\"parent\")\n",
    "\n",
    "class Child(Parent):\n",
    "   def __init__(self):\n",
    "      super().__init__()  # 调用父类的构造方法\n",
    "\n",
    "   def func(self):\n",
    "      super().func()  # 调用父类的其他方法\n",
    "      print(\"child\")\n",
    "\n",
    "object = Child()\n",
    "object.func()"
   ]
  },
  {
   "cell_type": "markdown",
   "metadata": {},
   "source": [
    "3.多态性：发生在子类和父类之间，并且在子类重写了父类的方法的情况下，才会发生多态"
   ]
  },
  {
   "cell_type": "code",
   "execution_count": 19,
   "metadata": {},
   "outputs": [
    {
     "name": "stdout",
     "output_type": "stream",
     "text": [
      "parent\n",
      "child1\n",
      "Child2\n"
     ]
    }
   ],
   "source": [
    "class Parent:\n",
    "    def func(self):\n",
    "        print(\"parent\")\n",
    "\n",
    "class Child1(Parent):\n",
    "    def func(self):\n",
    "        print(\"child1\")\n",
    "\n",
    "class Child2(Parent):\n",
    "    def func(self):\n",
    "        print(\"Child2\")\n",
    "\n",
    "object = Parent()\n",
    "object.func()\n",
    "\n",
    "object = Child1()\n",
    "object.func()\n",
    "\n",
    "object = Child2()\n",
    "object.func()"
   ]
  },
  {
   "cell_type": "markdown",
   "metadata": {},
   "source": [
    "类的方法"
   ]
  },
  {
   "cell_type": "markdown",
   "metadata": {},
   "source": [
    "1.实例方法：在类中定义的最多的方法，在类中定义的方法默认都是实例方法，我们在定义上面中的Human类时，就定义了一个构造方法"
   ]
  },
  {
   "cell_type": "code",
   "execution_count": 20,
   "metadata": {},
   "outputs": [],
   "source": [
    "class Human:\n",
    "    def __init__(self, name, age):\n",
    "        self.name = name\n",
    "        self.age = age\n",
    "\n",
    "    def get(self):\n",
    "        print(self.name, self.age)"
   ]
  },
  {
   "cell_type": "markdown",
   "metadata": {},
   "source": [
    "实例变量是与生成的对象相关联的一个变量，类的对象可以直接调用实例方法"
   ]
  },
  {
   "cell_type": "code",
   "execution_count": 21,
   "metadata": {},
   "outputs": [
    {
     "name": "stdout",
     "output_type": "stream",
     "text": [
      "小明 20\n"
     ]
    }
   ],
   "source": [
    "object = Human('小明', 20)\n",
    "object.get()"
   ]
  },
  {
   "cell_type": "markdown",
   "metadata": {},
   "source": [
    "2.类方法：用来操作和类相关的变量"
   ]
  },
  {
   "cell_type": "code",
   "execution_count": 22,
   "metadata": {},
   "outputs": [],
   "source": [
    "class Human:\n",
    "    def __init__(self, name, age):\n",
    "        self.name = name\n",
    "        self.age = age\n",
    "\n",
    "    @classmethod\n",
    "    def info(cls):\n",
    "        print(\"类方法\", cls)"
   ]
  },
  {
   "cell_type": "markdown",
   "metadata": {},
   "source": [
    "第一种调用方式，用类名直接调用："
   ]
  },
  {
   "cell_type": "code",
   "execution_count": 23,
   "metadata": {},
   "outputs": [
    {
     "name": "stdout",
     "output_type": "stream",
     "text": [
      "类方法 <class '__main__.Human'>\n"
     ]
    }
   ],
   "source": [
    "Human.info()"
   ]
  },
  {
   "cell_type": "markdown",
   "metadata": {},
   "source": [
    "第二种调用方式，使用类对象调用类方法："
   ]
  },
  {
   "cell_type": "code",
   "execution_count": 24,
   "metadata": {},
   "outputs": [
    {
     "name": "stdout",
     "output_type": "stream",
     "text": [
      "类方法 <class '__main__.Human'>\n"
     ]
    }
   ],
   "source": [
    "object = Human('小明', 20)\n",
    "object.info()"
   ]
  },
  {
   "cell_type": "markdown",
   "metadata": {},
   "source": [
    "3.静态方法："
   ]
  },
  {
   "cell_type": "code",
   "execution_count": 25,
   "metadata": {},
   "outputs": [],
   "source": [
    "class Human:\n",
    "    @staticmethod\n",
    "    def info(name, age):\n",
    "        print(name, age)"
   ]
  },
  {
   "cell_type": "markdown",
   "metadata": {},
   "source": [
    "第一种调用方式，使用类名直接调用静态方法："
   ]
  },
  {
   "cell_type": "code",
   "execution_count": 26,
   "metadata": {},
   "outputs": [
    {
     "name": "stdout",
     "output_type": "stream",
     "text": [
      "小明 20\n"
     ]
    }
   ],
   "source": [
    "Human.info('小明', 20)"
   ]
  },
  {
   "cell_type": "markdown",
   "metadata": {},
   "source": [
    "第二种调用方式，使用类对象来调用静态方法："
   ]
  },
  {
   "cell_type": "code",
   "execution_count": 27,
   "metadata": {},
   "outputs": [
    {
     "name": "stdout",
     "output_type": "stream",
     "text": [
      "小明 20\n"
     ]
    }
   ],
   "source": [
    "object = Human()\n",
    "object.info('小明', 20)"
   ]
  },
  {
   "cell_type": "markdown",
   "metadata": {},
   "source": [
    "# 1.4\tPython的文件读取和写入"
   ]
  },
  {
   "cell_type": "markdown",
   "metadata": {},
   "source": [
    "## 1.4.1\tPython内置读取写入方式"
   ]
  },
  {
   "cell_type": "markdown",
   "metadata": {},
   "source": [
    "在与此jupyter文件相同的文件夹下新建一个test.txt文档，文档内容为三行“”"
   ]
  },
  {
   "cell_type": "markdown",
   "metadata": {},
   "source": [
    "My name is Rachel"
   ]
  },
  {
   "cell_type": "markdown",
   "metadata": {},
   "source": [
    "I am 20 years old"
   ]
  },
  {
   "cell_type": "markdown",
   "metadata": {},
   "source": [
    "I like reading books"
   ]
  },
  {
   "cell_type": "markdown",
   "metadata": {},
   "source": [
    "读取文件时，有三种读取方式：file.readline()，一行一行读取，一次读取一行，file.readlines()，一行一行读取，一次性读完整个文件，并将其存储为一个list，file.read()，一次性读取整个文件。读取完毕后需要使用file.close关闭文件"
   ]
  },
  {
   "cell_type": "code",
   "execution_count": 28,
   "metadata": {},
   "outputs": [
    {
     "name": "stdout",
     "output_type": "stream",
     "text": [
      "My name is Rachel\n",
      "[]\n",
      "\n"
     ]
    }
   ],
   "source": [
    "file = open(\"./test.txt\", 'r')\n",
    "a = file.readline()  # 读取一行\n",
    "print(a) # My name is Rachel\n",
    "b = file.readlines() # 逐行读取剩余全部行\n",
    "print(b)  # ['I am 20 years old\\n', 'I like reading books\\n']\n",
    "c = file.read()  # 一次性读取整个文档\n",
    "print(c)  # 打印为空，因为readlines已经读完整个文件了\n",
    "file.close()  # 读取完毕"
   ]
  },
  {
   "cell_type": "markdown",
   "metadata": {},
   "source": [
    "文件的写入也可使用with open方法，建议读者使用该方法而非直接使用open方法"
   ]
  },
  {
   "cell_type": "code",
   "execution_count": 29,
   "metadata": {},
   "outputs": [
    {
     "name": "stdout",
     "output_type": "stream",
     "text": [
      "My name is Rachel\n",
      "[]\n",
      "\n"
     ]
    }
   ],
   "source": [
    "with open(\"./test.txt\", 'r') as file:\n",
    "    a = file.readline()  # 读取一行\n",
    "    print(a) # My name is Rachel\n",
    "    b = file.readlines() # 逐行读取剩余全部行\n",
    "    print(b)  # ['I am 20 years old\\n', 'I like reading books\\n']\n",
    "    c = file.read()  # 一次性读取整个文档\n",
    "    print(c)  # 打印为空，因为readlines已经读完整个文件了\n",
    "    # 此处不需要使用file.close()\n",
    "\n",
    "with open(\"./test.txt\", 'w') as file:\n",
    "    file.write(\"My name is Rachel\")"
   ]
  },
  {
   "cell_type": "markdown",
   "metadata": {},
   "source": [
    "## 1.4.2\tNumpy读取和写入"
   ]
  },
  {
   "cell_type": "markdown",
   "metadata": {},
   "source": [
    "1.可以使用numpy中读取csv或txt格式的文本文件，我们使用函数numpy.loadtxt(),返回值为读取的n维数组,在当前文件夹目录下新建一个csv文件，里面有一个5*3的表格，元素如下："
   ]
  },
  {
   "cell_type": "markdown",
   "metadata": {},
   "source": [
    "1 2 3"
   ]
  },
  {
   "cell_type": "markdown",
   "metadata": {},
   "source": [
    "4 5 6"
   ]
  },
  {
   "cell_type": "markdown",
   "metadata": {},
   "source": [
    "7 8 9"
   ]
  },
  {
   "cell_type": "markdown",
   "metadata": {},
   "source": [
    "3 2 1"
   ]
  },
  {
   "cell_type": "markdown",
   "metadata": {},
   "source": [
    "6 5 4"
   ]
  },
  {
   "cell_type": "code",
   "execution_count": 30,
   "metadata": {},
   "outputs": [
    {
     "name": "stdout",
     "output_type": "stream",
     "text": [
      "['1,2,3' '4,5,6' '7,8,9' '3,2,1' '6,5,4']\n"
     ]
    }
   ],
   "source": [
    "import numpy as np\n",
    "a = np.loadtxt(\"./test.csv\", dtype=np.str)\n",
    "print(a)"
   ]
  },
  {
   "cell_type": "markdown",
   "metadata": {},
   "source": [
    "如果要将数组保持原格式写入txt或者csv格式的文件中去，使用numpy.savetxt()函数，常用参数与loadtxt相同"
   ]
  },
  {
   "cell_type": "code",
   "execution_count": 31,
   "metadata": {},
   "outputs": [],
   "source": [
    "import numpy as np\n",
    "data = np.ones((2, 3))\n",
    "np.savetxt(fname=\"./test.csv\", X=data, delimiter=',', encoding='utf-8')# 保存一个2行3列元素值全为1的数组"
   ]
  },
  {
   "cell_type": "markdown",
   "metadata": {},
   "source": [
    "2.读写二进制文件使用numpy.save(file, array)函数"
   ]
  },
  {
   "cell_type": "code",
   "execution_count": 32,
   "metadata": {},
   "outputs": [],
   "source": [
    "import numpy as np\n",
    "a = np.arange(15).reshape(3,5)\n",
    "np.save(\"a.npy\", a)\n",
    "b = np.load( \"a.npy\" )"
   ]
  },
  {
   "cell_type": "markdown",
   "metadata": {},
   "source": [
    "3.Numpy中还可以使用numpy.fromfile(file, dtype=float, count=‐1, sep='')函数读取后缀名为.dat多维数据文件"
   ]
  },
  {
   "cell_type": "code",
   "execution_count": 33,
   "metadata": {},
   "outputs": [],
   "source": [
    "import numpy as np\n",
    "a = np.arange(100).reshape(5,10,2)\n",
    "a.tofile('b.dat',sep=',',format='%d')\n",
    "c = np.fromfile('b.dat',dtype=np.int,sep=',')"
   ]
  },
  {
   "cell_type": "markdown",
   "metadata": {},
   "source": [
    "## 1.4.3\tPandas读取和写入"
   ]
  },
  {
   "cell_type": "markdown",
   "metadata": {},
   "source": [
    "1.使用pandas.read_csv()函数读取txt或csv文件时"
   ]
  },
  {
   "cell_type": "code",
   "execution_count": 34,
   "metadata": {},
   "outputs": [
    {
     "data": {
      "text/html": [
       "<div>\n",
       "<style scoped>\n",
       "    .dataframe tbody tr th:only-of-type {\n",
       "        vertical-align: middle;\n",
       "    }\n",
       "\n",
       "    .dataframe tbody tr th {\n",
       "        vertical-align: top;\n",
       "    }\n",
       "\n",
       "    .dataframe thead th {\n",
       "        text-align: right;\n",
       "    }\n",
       "</style>\n",
       "<table border=\"1\" class=\"dataframe\">\n",
       "  <thead>\n",
       "    <tr style=\"text-align: right;\">\n",
       "      <th></th>\n",
       "      <th>0</th>\n",
       "      <th>1</th>\n",
       "      <th>2</th>\n",
       "    </tr>\n",
       "  </thead>\n",
       "  <tbody>\n",
       "    <tr>\n",
       "      <th>0</th>\n",
       "      <td>1.0</td>\n",
       "      <td>1.0</td>\n",
       "      <td>1.0</td>\n",
       "    </tr>\n",
       "    <tr>\n",
       "      <th>1</th>\n",
       "      <td>1.0</td>\n",
       "      <td>1.0</td>\n",
       "      <td>1.0</td>\n",
       "    </tr>\n",
       "  </tbody>\n",
       "</table>\n",
       "</div>"
      ],
      "text/plain": [
       "     0    1    2\n",
       "0  1.0  1.0  1.0\n",
       "1  1.0  1.0  1.0"
      ]
     },
     "execution_count": 34,
     "metadata": {},
     "output_type": "execute_result"
    }
   ],
   "source": [
    "import pandas as pd\n",
    "df = pd.read_csv('./test.csv', header=None, delimiter=\",\")\n",
    "df.head()  "
   ]
  },
  {
   "cell_type": "markdown",
   "metadata": {},
   "source": [
    "在存储csv文件时可以使用to_csv()函数"
   ]
  },
  {
   "cell_type": "code",
   "execution_count": 35,
   "metadata": {},
   "outputs": [],
   "source": [
    "import pandas as pd\n",
    "df = pd.read_csv('./test.csv')\n",
    "df.to_csv('./new.csv')"
   ]
  },
  {
   "cell_type": "markdown",
   "metadata": {},
   "source": [
    "2.Pandas提供了pandas. read_excel()函数来读取xls或xlsx格式的文件,在当前目录新建xlsx表格，表格包含2*5数据如下"
   ]
  },
  {
   "cell_type": "markdown",
   "metadata": {},
   "source": [
    "1 2 3 4 5"
   ]
  },
  {
   "cell_type": "markdown",
   "metadata": {},
   "source": [
    "6 7 8 9 10"
   ]
  },
  {
   "cell_type": "code",
   "execution_count": 36,
   "metadata": {},
   "outputs": [
    {
     "data": {
      "text/html": [
       "<div>\n",
       "<style scoped>\n",
       "    .dataframe tbody tr th:only-of-type {\n",
       "        vertical-align: middle;\n",
       "    }\n",
       "\n",
       "    .dataframe tbody tr th {\n",
       "        vertical-align: top;\n",
       "    }\n",
       "\n",
       "    .dataframe thead th {\n",
       "        text-align: right;\n",
       "    }\n",
       "</style>\n",
       "<table border=\"1\" class=\"dataframe\">\n",
       "  <thead>\n",
       "    <tr style=\"text-align: right;\">\n",
       "      <th></th>\n",
       "      <th>1</th>\n",
       "      <th>2</th>\n",
       "      <th>3</th>\n",
       "      <th>4</th>\n",
       "      <th>5</th>\n",
       "    </tr>\n",
       "  </thead>\n",
       "  <tbody>\n",
       "    <tr>\n",
       "      <th>0</th>\n",
       "      <td>6</td>\n",
       "      <td>7</td>\n",
       "      <td>8</td>\n",
       "      <td>9</td>\n",
       "      <td>10</td>\n",
       "    </tr>\n",
       "  </tbody>\n",
       "</table>\n",
       "</div>"
      ],
      "text/plain": [
       "   1  2  3  4   5\n",
       "0  6  7  8  9  10"
      ]
     },
     "execution_count": 36,
     "metadata": {},
     "output_type": "execute_result"
    }
   ],
   "source": [
    "import pandas as pd\n",
    "df_excel = pd.read_excel('./table.xlsx', sheet_name='Sheet1', header=0)\n",
    "df_excel.head()"
   ]
  },
  {
   "cell_type": "markdown",
   "metadata": {},
   "source": [
    "存储excel文件的时候，可以使用.to_excel()函数，使用示例如下："
   ]
  },
  {
   "cell_type": "code",
   "execution_count": 37,
   "metadata": {},
   "outputs": [],
   "source": [
    "df.to_excel('./new_table.xlsx', sheet_name='Sheet1')"
   ]
  },
  {
   "cell_type": "code",
   "execution_count": null,
   "metadata": {},
   "outputs": [],
   "source": []
  }
 ],
 "metadata": {
  "kernelspec": {
   "display_name": "Python 3",
   "language": "python",
   "name": "python3"
  },
  "language_info": {
   "codemirror_mode": {
    "name": "ipython",
    "version": 3
   },
   "file_extension": ".py",
   "mimetype": "text/x-python",
   "name": "python",
   "nbconvert_exporter": "python",
   "pygments_lexer": "ipython3",
   "version": "3.7.6"
  }
 },
 "nbformat": 4,
 "nbformat_minor": 4
}
